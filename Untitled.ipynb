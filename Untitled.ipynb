{
 "cells": [
  {
   "cell_type": "code",
   "execution_count": 1,
   "id": "73919a8a",
   "metadata": {},
   "outputs": [
    {
     "data": {
      "text/plain": [
       "21553"
      ]
     },
     "execution_count": 1,
     "metadata": {},
     "output_type": "execute_result"
    }
   ],
   "source": [
    "import xml.etree.ElementTree as ET\n",
    "eldamo = ET.parse('eldamo-data.xml')\n",
    "root = eldamo.getroot()\n",
    "\n",
    "count = 0\n",
    "for child in root:\n",
    "    count += 1\n",
    "\n",
    "count"
   ]
  },
  {
   "cell_type": "code",
   "execution_count": 2,
   "id": "6008115e",
   "metadata": {},
   "outputs": [
    {
     "data": {
      "text/plain": [
       "261814"
      ]
     },
     "execution_count": 2,
     "metadata": {},
     "output_type": "execute_result"
    }
   ],
   "source": [
    "count = 0\n",
    "for ref in root.iter('*'):\n",
    "    count += 1\n",
    "count"
   ]
  },
  {
   "cell_type": "code",
   "execution_count": 3,
   "id": "9d76d33b",
   "metadata": {},
   "outputs": [
    {
     "name": "stdout",
     "output_type": "stream",
     "text": [
      "<word l=\"q\" v=\"calca\" speech=\"n\" ngloss=\"glass\" cat=\"PA_GL\" page-id=\"1734158879\" gloss=\"glass\">\n",
      "      <related l=\"q\" v=\"cilin\">vs.</related>\n",
      "      <ref v=\"calca\" source=\"VT47/35.3912\" gloss=\"glass\" />\n",
      "      <ref v=\"calca\" source=\"VT47/35.4311\" gloss=\"glass\">\n",
      "         <deriv v=\"KALAK\" source=\"VT47/35.4401\">\n",
      "            <rule-start stage=\"kalka\" />\n",
      "         </deriv>\n",
      "      </ref>\n",
      "      <word l=\"q\" v=\"cilin\" speech=\"n\" ngloss=\"glass [transluscent or reflective]\" cat=\"PA_GL\" page-id=\"3925469285\" gloss=\"glass\">\n",
      "         <related l=\"mq\" v=\"hyelle\">may replace</related>\n",
      "         <ref v=\"cilin\" source=\"PE17/037.2107\" gloss=\"glass\" />\n",
      "         <word l=\"mq\" v=\"hyelle\" speech=\"n\" cat=\"PA_GL\" page-id=\"251619809\" gloss=\"glass\">\n",
      "            <deprecated l=\"q\" v=\"calca\" />\n",
      "            <ref v=\"hyelle\" source=\"Ety/KHYEL(ES).004\" gloss=\"glass\">\n",
      "               <deriv v=\"KHYEL(ES)\" source=\"Ety/KHYEL(ES).001\">\n",
      "                  <rule-start stage=\"kʰjelle\" />\n",
      "                  <rule-example l=\"maq\" rule=\"x\" from=\"kʰ\" stage=\"xjelle\" />\n",
      "                  <rule-example l=\"maq\" rule=\"j̊\" from=\"xj\" stage=\"j̊elle\" />\n",
      "               </deriv>\n",
      "               <cognate v=\"kheleha\" source=\"Ety/KHYEL(ES).008\" />\n",
      "               <cognate v=\"hele\" source=\"Ety/KHYEL(ES).010\" />\n",
      "            </ref>\n",
      "            <word l=\"eq\" v=\"talqe\" stem=\"talqi-\" speech=\"n\" cat=\"PA_GL\" page-id=\"237763265\" gloss=\"glass\">\n",
      "               <deprecated l=\"q\" v=\"calca\" />\n",
      "               <ref v=\"talqe\" source=\"GL/25.7505\">\n",
      "                  <cognate v=\"celc\" source=\"GL/25.7501\" />\n",
      "               </ref>\n",
      "               <ref v=\"talqe\" source=\"GL/25.8705\">\n",
      "                  <deriv v=\"taı̯lkwē\" source=\"GL/25.8707\">\n",
      "                     <rule-start l=\"ep\" stage=\"tailkʷē\" />\n",
      "                     <rule-example l=\"eq\" rule=\"-Sĕ\" from=\"-Sē\" stage=\"tailkʷe\" />\n",
      "                     <rule-example l=\"eq\" rule=\"aCC\" from=\"aiCC\" stage=\"talkʷe\" />\n",
      "                  </deriv>\n",
      "               </ref>\n",
      "               <ref v=\"talqĭ-\" source=\"PME/088.7103\">\n",
      "                  <inflect form=\"stem\" />\n",
      "               </ref>\n",
      "               <ref v=\"Talqe\" source=\"QL/088.6701\" gloss=\"glass\" />\n",
      "               <ref v=\"Talqi-\" source=\"QL/088.6702\">\n",
      "                  <inflect form=\"stem\" v=\"Talqe\" source=\"QL/088.6701\" />\n",
      "               </ref>\n",
      "            </word>\n",
      "         </word>\n",
      "      </word>\n",
      "   </word>\n",
      "   \n"
     ]
    }
   ],
   "source": [
    "def find_word(lang, form):\n",
    "    return root.find(f\".//word[@v='{form}'][@l='{lang}']\")\n",
    "\n",
    "ET.dump(find_word('q', 'calca'))"
   ]
  },
  {
   "cell_type": "code",
   "execution_count": 22,
   "id": "63dc921b",
   "metadata": {},
   "outputs": [],
   "source": [
    "with open('out', 'w') as f:\n",
    "    for tag in root.iter('*'):\n",
    "        f.write(f'{tag.tag} {tag.attrib}\\n')"
   ]
  },
  {
   "cell_type": "code",
   "execution_count": 29,
   "id": "4d4706e5",
   "metadata": {},
   "outputs": [
    {
     "name": "stdout",
     "output_type": "stream",
     "text": [
      "<related l=\"q\" v=\"cilin\">vs.</related>\n",
      "      \n",
      "<related l=\"q\" v=\"cilin\">vs.</related>\n",
      "      \n"
     ]
    },
    {
     "data": {
      "text/plain": [
       "[None, None]"
      ]
     },
     "execution_count": 29,
     "metadata": {},
     "output_type": "execute_result"
    }
   ],
   "source": [
    "def find_cross_reference(ref_type, lang, form):\n",
    "    return root.findall(f\".//{ref_type}[@v='{form}'][@l='{lang}']\")\n",
    "[ET.dump(x) for x in find_cross_reference('related', 'q', 'cilin')]"
   ]
  },
  {
   "cell_type": "code",
   "execution_count": 30,
   "id": "0acabd5e",
   "metadata": {},
   "outputs": [
    {
     "data": {
      "text/plain": [
       "{'ƕ': 'h',\n",
       " 'ı': 'i',\n",
       " 'ǝ': 'e',\n",
       " 'ð': 't',\n",
       " 'þ': 't',\n",
       " 'θ': 't',\n",
       " 'ʒ': 'g',\n",
       " 'ɣ': 'g',\n",
       " 'ç': 'c',\n",
       " 'ƀ': 'b',\n",
       " 'ɟ': 'j',\n",
       " 'ḷ': 'l',\n",
       " 'ḹ': 'l',\n",
       " 'ẏ': 'y',\n",
       " 'ý': 'y',\n",
       " 'ṃ': 'm',\n",
       " 'ṇ': 'n',\n",
       " 'ṛ': 'r',\n",
       " 'ṝ': 'r',\n",
       " 'ñ': 'n',\n",
       " 'ŋ': 'n',\n",
       " 'ᴬ': 'a',\n",
       " 'ᴱ': 'e',\n",
       " 'ᴵ': 'i',\n",
       " 'ᴼ': 'o',\n",
       " 'ᵁ': 'u',\n",
       " 'á': 'a',\n",
       " 'é': 'e',\n",
       " 'í': 'i',\n",
       " 'ó': 'o',\n",
       " 'ú': 'u',\n",
       " 'ä': 'a',\n",
       " 'ë': 'e',\n",
       " 'ï': 'i',\n",
       " 'ö': 'o',\n",
       " 'ü': 'u',\n",
       " 'ā': 'a',\n",
       " 'ē': 'e',\n",
       " 'ī': 'i',\n",
       " 'ō': 'o',\n",
       " 'ū': 'u',\n",
       " 'â': 'a',\n",
       " 'ê': 'e',\n",
       " 'î': 'i',\n",
       " 'ô': 'o',\n",
       " 'û': 'u',\n",
       " 'ŷ': 'y',\n",
       " 'ă': 'a',\n",
       " 'ĕ': 'e',\n",
       " 'ĭ': 'i',\n",
       " 'ŏ': 'o',\n",
       " 'ŭ': 'u',\n",
       " 'æ': 'a',\n",
       " 'ǣ': 'e',\n",
       " 'ǭ': 'o',\n",
       " 'χ': 'x',\n",
       " 'ř': 'r',\n",
       " 'š': 's',\n",
       " 'ё': 'е',\n",
       " ' ': ' ',\n",
       " '-': '-',\n",
       " '–': '-',\n",
       " '·': '-',\n",
       " '¹': '1',\n",
       " '²': '2',\n",
       " '³': '3',\n",
       " '⁴': '4',\n",
       " '⁵': '5',\n",
       " '⁶': '6',\n",
       " '⁷': '7',\n",
       " '⁸': '8',\n",
       " '⁹': '9',\n",
       " '?': ' ',\n",
       " '.': ' ',\n",
       " '‘': ' ',\n",
       " '’': ' ',\n",
       " '[': ' ',\n",
       " ']': ' ',\n",
       " '{': ' ',\n",
       " '}': ' ',\n",
       " '(': ' ',\n",
       " ')': ' ',\n",
       " '!': ' ',\n",
       " '̆': ' ',\n",
       " ',': ' ',\n",
       " '`': ' ',\n",
       " '¯': ' ',\n",
       " '̯': ' ',\n",
       " '̥': ' ',\n",
       " '́': ' ',\n",
       " '̄': ' ',\n",
       " '̂': ' '}"
      ]
     },
     "execution_count": 30,
     "metadata": {},
     "output_type": "execute_result"
    }
   ],
   "source": [
    "match = 'ƕıǝðþθʒɣçƀɟḷḹẏýṃṇṛṝñŋᴬᴱᴵᴼᵁáéíóúýäëïöüāēīōūâêîôûŷăĕĭŏŭæǣǭχřšё -–·¹²³⁴⁵⁶⁷⁸⁹?.‘’[]{}()!̆,`¯̯̥́̄̂'\n",
    "replace = 'hietttggcbjllyymnrrnnaeiouaeiouyaeiouaeiouaeiouyaeiouaeoxrsе ---123456789' + (' ' * 21)\n",
    "replacemets = dict(zip(match, replace))\n",
    "replacemets"
   ]
  },
  {
   "cell_type": "code",
   "execution_count": 33,
   "id": "051577e0",
   "metadata": {},
   "outputs": [],
   "source": [
    "from re import sub, escape, compile\n",
    "\n",
    "canonical_replacements = {'ƕ': 'h',\n",
    "                          'ı': 'i',\n",
    "                          'ǝ': 'e',\n",
    "                          'ð': 't',\n",
    "                          'þ': 't',\n",
    "                          'θ': 't',\n",
    "                          'ʒ': 'g',\n",
    "                          'ɣ': 'g',\n",
    "                          'ç': 'c',\n",
    "                          'ƀ': 'b',\n",
    "                          'ɟ': 'j',\n",
    "                          'ḷ': 'l',\n",
    "                          'ḹ': 'l',\n",
    "                          'ẏ': 'y',\n",
    "                          'ý': 'y',\n",
    "                          'ṃ': 'm',\n",
    "                          'ṇ': 'n',\n",
    "                          'ṛ': 'r',\n",
    "                          'ṝ': 'r',\n",
    "                          'ñ': 'n',\n",
    "                          'ŋ': 'n',\n",
    "                          'ᴬ': 'a',\n",
    "                          'ᴱ': 'e',\n",
    "                          'ᴵ': 'i',\n",
    "                          'ᴼ': 'o',\n",
    "                          'ᵁ': 'u',\n",
    "                          'á': 'a',\n",
    "                          'é': 'e',\n",
    "                          'í': 'i',\n",
    "                          'ó': 'o',\n",
    "                          'ú': 'u',\n",
    "                          'ä': 'a',\n",
    "                          'ë': 'e',\n",
    "                          'ï': 'i',\n",
    "                          'ö': 'o',\n",
    "                          'ü': 'u',\n",
    "                          'ā': 'a',\n",
    "                          'ē': 'e',\n",
    "                          'ī': 'i',\n",
    "                          'ō': 'o',\n",
    "                          'ū': 'u',\n",
    "                          'â': 'a',\n",
    "                          'ê': 'e',\n",
    "                          'î': 'i',\n",
    "                          'ô': 'o',\n",
    "                          'û': 'u',\n",
    "                          'ŷ': 'y',\n",
    "                          'ă': 'a',\n",
    "                          'ĕ': 'e',\n",
    "                          'ĭ': 'i',\n",
    "                          'ŏ': 'o',\n",
    "                          'ŭ': 'u',\n",
    "                          'æ': 'a',\n",
    "                          'ǣ': 'e',\n",
    "                          'ǭ': 'o',\n",
    "                          'χ': 'x',\n",
    "                          'ř': 'r',\n",
    "                          'š': 's',\n",
    "                          'ё': 'е',\n",
    "                          ' ': '',\n",
    "                          '-': '-',\n",
    "                          '–': '-',\n",
    "                          '·': '-',\n",
    "                          '¹': '1',\n",
    "                          '²': '2',\n",
    "                          '³': '3',\n",
    "                          '⁴': '4',\n",
    "                          '⁵': '5',\n",
    "                          '⁶': '6',\n",
    "                          '⁷': '7',\n",
    "                          '⁸': '8',\n",
    "                          '⁹': '9',\n",
    "                          '?': '',\n",
    "                          '.': '',\n",
    "                          '‘': '',\n",
    "                          '’': '',\n",
    "                          '[': '',\n",
    "                          ']': '',\n",
    "                          '{': '',\n",
    "                          '}': '',\n",
    "                          '(': '',\n",
    "                          ')': '',\n",
    "                          '!': '',\n",
    "                          '̆': '',\n",
    "                          ',': '',\n",
    "                          '`': '',\n",
    "                          '¯': '',\n",
    "                          '̯': '',\n",
    "                          '̥': '',\n",
    "                          '́': '',\n",
    "                          '̄': '',\n",
    "                          '̂': ''}\n",
    "canonical_regex = compile(f'([{\"\".join(escape(key) for key in canonical_replacements.keys())}])')\n",
    "\n",
    "\n",
    "def canonical(word):\n",
    "    return sub(canonical_regex, lambda match: canonical_replacements[match.group(0)], word)\n"
   ]
  },
  {
   "cell_type": "code",
   "execution_count": 34,
   "id": "c6aea2da",
   "metadata": {},
   "outputs": [
    {
     "data": {
      "text/plain": [
       "'galdran'"
      ]
     },
     "execution_count": 34,
     "metadata": {},
     "output_type": "execute_result"
    }
   ],
   "source": [
    "canonical('ǵāldrañ')"
   ]
  },
  {
   "cell_type": "code",
   "execution_count": null,
   "id": "38065efa",
   "metadata": {},
   "outputs": [],
   "source": []
  }
 ],
 "metadata": {
  "kernelspec": {
   "display_name": "Python 3 (ipykernel)",
   "language": "python",
   "name": "python3"
  },
  "language_info": {
   "codemirror_mode": {
    "name": "ipython",
    "version": 3
   },
   "file_extension": ".py",
   "mimetype": "text/x-python",
   "name": "python",
   "nbconvert_exporter": "python",
   "pygments_lexer": "ipython3",
   "version": "3.12.1"
  }
 },
 "nbformat": 4,
 "nbformat_minor": 5
}
